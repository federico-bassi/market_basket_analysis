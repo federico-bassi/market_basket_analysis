{
  "cells": [
    {
      "cell_type": "markdown",
      "metadata": {
        "id": "view-in-github",
        "colab_type": "text"
      },
      "source": [
        "<a href=\"https://colab.research.google.com/github/federico-bassi/market_basket_analysis/blob/main/amd_project.ipynb\" target=\"_parent\"><img src=\"https://colab.research.google.com/assets/colab-badge.svg\" alt=\"Open In Colab\"/></a>"
      ]
    },
    {
      "cell_type": "markdown",
      "metadata": {
        "id": "XCsEdAjC9juW"
      },
      "source": [
        "# Market-basket Analysis\n",
        "This notebook contains the code necessary to produce the Market Basket Analysis for the project \"Algorithms for Massive Datasets\"."
      ]
    },
    {
      "cell_type": "markdown",
      "metadata": {
        "id": "LFtZWkyqcC8A"
      },
      "source": [
        "## Setup"
      ]
    },
    {
      "cell_type": "code",
      "execution_count": 1,
      "metadata": {
        "id": "NRyAwBMQb2BS"
      },
      "outputs": [],
      "source": [
        "import pandas as pd\n",
        "import numpy as np\n",
        "import itertools\n",
        "from nltk import word_tokenize\n",
        "from google.colab import drive \n",
        "import time\n",
        "from tqdm import tqdm\n",
        "import matplotlib.pyplot as plt\n",
        "import json\n",
        "import zipfile\n",
        "import seaborn as sns"
      ]
    },
    {
      "cell_type": "code",
      "execution_count": 2,
      "metadata": {
        "id": "yA4gnhvpjnGr"
      },
      "outputs": [],
      "source": [
        "!apt-get install openjdk-8-jdk-headless -qq > /dev/null\n",
        "!wget -q https://dlcdn.apache.org/spark/spark-3.3.2/spark-3.3.2-bin-hadoop3.tgz\n",
        "!tar xf spark-3.3.2-bin-hadoop3.tgz"
      ]
    },
    {
      "cell_type": "code",
      "execution_count": 3,
      "metadata": {
        "id": "CPKCWHw6kRZU"
      },
      "outputs": [],
      "source": [
        "import os\n",
        "os.environ[\"JAVA_HOME\"] = \"/usr/lib/jvm/java-8-openjdk-amd64\"\n",
        "os.environ[\"SPARK_HOME\"] = \"/content/spark-3.3.2-bin-hadoop3\""
      ]
    },
    {
      "cell_type": "code",
      "execution_count": 4,
      "metadata": {
        "id": "TGzc1eLbkVMX"
      },
      "outputs": [],
      "source": [
        "!pip install -q findspark\n",
        "import findspark\n",
        "findspark.init()"
      ]
    },
    {
      "cell_type": "code",
      "execution_count": 5,
      "metadata": {
        "id": "305oZo-duVaU"
      },
      "outputs": [],
      "source": [
        "from pyspark.sql import SparkSession\n",
        "spark = SparkSession.builder.master(\"local[*]\").getOrCreate()\n",
        "sc = spark.sparkContext"
      ]
    },
    {
      "cell_type": "markdown",
      "metadata": {
        "id": "yZLWy25-cLQ9"
      },
      "source": [
        "### Retrieve the dataset"
      ]
    },
    {
      "cell_type": "code",
      "execution_count": 6,
      "metadata": {
        "colab": {
          "base_uri": "https://localhost:8080/"
        },
        "id": "t61XMRd3cK_r",
        "outputId": "8045a8c8-73a1-44e2-e3c1-8b64be7548af"
      },
      "outputs": [
        {
          "output_type": "stream",
          "name": "stdout",
          "text": [
            "Downloading medal-emnlp.zip to /content\n",
            "100% 6.82G/6.82G [00:59<00:00, 147MB/s]\n",
            "100% 6.82G/6.82G [00:59<00:00, 124MB/s]\n"
          ]
        }
      ],
      "source": [
        "os.environ['KAGGLE_USERNAME'] = \"federicobassi1999\"\n",
        "os.environ['KAGGLE_KEY'] = \"58442c0b245995de84ca59d6ddb81d63\"\n",
        "!kaggle datasets download -d xhlulu/medal-emnlp --unzip"
      ]
    },
    {
      "cell_type": "code",
      "source": [
        "from pyspark.sql.types import StructType, StructField, IntegerType, StringType, ArrayType\n",
        "\n",
        "# Specify the schema\n",
        "schema = StructType([\n",
        "    StructField(\"TEXT\", StringType()),\n",
        "    StructField(\"LOCATION\", StringType()),\n",
        "    StructField(\"LABEL\", StringType())\n",
        "])\n",
        "\n",
        "# Retrieve the datase\n",
        "df = spark.read.csv(\"full_data.csv\", schema=schema, header=True, sep=\",\")\n",
        "\n",
        "# Select the column \"text\"\n",
        "df = df.select(\"TEXT\")"
      ],
      "metadata": {
        "id": "dTJITat5tDHF"
      },
      "execution_count": 25,
      "outputs": []
    },
    {
      "cell_type": "code",
      "source": [
        "# Take a random sample (allows feasible computational time)\n",
        "subset = df.sample(False, 0.001, seed=42)"
      ],
      "metadata": {
        "id": "vEzsGIeduVve"
      },
      "execution_count": 30,
      "outputs": []
    },
    {
      "cell_type": "code",
      "source": [
        "# Convert the dataframe to rdd and take the column \"text\"\n",
        "rdd = subset.rdd.map(lambda x: x[0])"
      ],
      "metadata": {
        "id": "Fg9o4OWV6b2Q"
      },
      "execution_count": 31,
      "outputs": []
    },
    {
      "cell_type": "markdown",
      "metadata": {
        "id": "Uxht0EkDix3b"
      },
      "source": [
        "## Data Preprocessing"
      ]
    },
    {
      "cell_type": "code",
      "execution_count": 32,
      "metadata": {
        "colab": {
          "base_uri": "https://localhost:8080/"
        },
        "id": "OEAyUP29X5RJ",
        "outputId": "262a7ddf-2299-4e13-d6f8-9ecda895c7f1"
      },
      "outputs": [
        {
          "output_type": "execute_result",
          "data": {
            "text/plain": [
              "14333"
            ]
          },
          "metadata": {},
          "execution_count": 32
        }
      ],
      "source": [
        "subset.count()"
      ]
    },
    {
      "cell_type": "code",
      "execution_count": 33,
      "metadata": {
        "colab": {
          "base_uri": "https://localhost:8080/"
        },
        "id": "jG9bTxlyv81M",
        "outputId": "d0295836-4742-42d4-c8e0-bcbeeeaf2b2c"
      },
      "outputs": [
        {
          "output_type": "execute_result",
          "data": {
            "text/plain": [
              "['alphabisabolol has a primary antipeptic action depending on dosage which is not caused by an alteration of the phvalue the proteolytic activity of pepsin is reduced by percent through addition of bisabolol in the ratio of the antipeptic action of bisabolol only occurs in case of direct contact in case of a previous contact with the ATP the inhibiting effect is lost']"
            ]
          },
          "metadata": {},
          "execution_count": 33
        }
      ],
      "source": [
        "subset.take(1)"
      ]
    },
    {
      "cell_type": "code",
      "execution_count": null,
      "metadata": {
        "colab": {
          "base_uri": "https://localhost:8080/"
        },
        "id": "QLZMsdNKi04I",
        "outputId": "41c5a193-9d3a-466a-afef-4eefc7fe97ce"
      },
      "outputs": [
        {
          "output_type": "stream",
          "name": "stderr",
          "text": [
            "[nltk_data] Downloading package punkt to /root/nltk_data...\n",
            "[nltk_data]   Unzipping tokenizers/punkt.zip.\n",
            "[nltk_data] Downloading package stopwords to /root/nltk_data...\n",
            "[nltk_data]   Unzipping corpora/stopwords.zip.\n",
            "[nltk_data] Downloading package wordnet to /root/nltk_data...\n",
            "[nltk_data] Downloading package omw-1.4 to /root/nltk_data...\n"
          ]
        }
      ],
      "source": [
        "import string\n",
        "import nltk\n",
        "from nltk.stem import WordNetLemmatizer\n",
        "from nltk.tokenize import word_tokenize\n",
        "\n",
        "# Download required nltk data\n",
        "nltk.download('punkt')\n",
        "nltk.download('stopwords')\n",
        "nltk.download('wordnet')\n",
        "nltk.download('omw-1.4')\n",
        "\n",
        "# Define the function for preprocessing text\n",
        "def preprocess(row):\n",
        "    from nltk.corpus import stopwords\n",
        "    # Convert the text to lowercase\n",
        "    text = row.lower()\n",
        "\n",
        "    # Remove punctuation\n",
        "    text = text.translate(str.maketrans('', '', string.punctuation))\n",
        "\n",
        "    # Remove stopwords\n",
        "    stop_words = set(stopwords.words('english'))\n",
        "\n",
        "    # Tokenize\n",
        "    word_tokens = word_tokenize(text)\n",
        "    filtered_words = [word for word in word_tokens if word not in stop_words]\n",
        "\n",
        "    # Lemmatize the words\n",
        "    lemmatizer = WordNetLemmatizer()\n",
        "    lemmatized_words = [lemmatizer.lemmatize(word) for word in filtered_words]\n",
        "\n",
        "    # Return the preprocessed text as a list of unique words\n",
        "    return list(set(lemmatized_words))\n"
      ]
    },
    {
      "cell_type": "code",
      "execution_count": null,
      "metadata": {
        "id": "xKeKgoQDvkoQ"
      },
      "outputs": [],
      "source": [
        "# Preprocess\n",
        "rdd = rdd.map(preprocess)"
      ]
    },
    {
      "cell_type": "code",
      "execution_count": null,
      "metadata": {
        "colab": {
          "base_uri": "https://localhost:8080/",
          "height": 558
        },
        "id": "bu5onPXIq5E3",
        "outputId": "38384470-a6ec-45af-9309-1836a536a1e2"
      },
      "outputs": [
        {
          "output_type": "display_data",
          "data": {
            "text/plain": [
              "<Figure size 864x576 with 1 Axes>"
            ],
            "image/png": "[encoded data removed]"
          },
          "metadata": {
            "needs_background": "light"
          }
        }
      ],
      "source": [
        "# Plot the lengths of the tokenized documents\n",
        "lengths = rdd.map(len).collect()\n",
        "\n",
        "f, ax = plt.subplots(figsize=(12, 8))\n",
        "sns.histplot(data=lengths, binwidth=2, ax=ax, color='#7EB6FF')\n",
        "ax.set_xlabel(\"Number of tokenized words per document\", fontsize=14)\n",
        "ax.set_ylabel(\"Frequency\", fontsize=14)\n",
        "f.suptitle(\"Lengths of the (tokenized) documents\", fontsize=22)\n",
        "plt.savefig(\"drive/MyDrive/amd_proj/histogram.jpeg\")\n",
        "plt.show()"
      ]
    },
    {
      "cell_type": "code",
      "execution_count": null,
      "metadata": {
        "id": "KRON9NKvFDCJ"
      },
      "outputs": [],
      "source": [
        "def create_vocabulary(rdd):\n",
        "\n",
        "    # Assign a index to each word\n",
        "    integer2word = rdd.flatMap(lambda line:line)\\\n",
        "                      .distinct().zipWithIndex()\\\n",
        "                      .map(lambda x: (x[1], x[0]))\\\n",
        "                      .collectAsMap()\n",
        "\n",
        "    # Reverse the key, value pairs\n",
        "    word2integer = {value:key for key, value in integer2word.items()}\n",
        "\n",
        "    return integer2word, word2integer"
      ]
    },
    {
      "cell_type": "code",
      "execution_count": null,
      "metadata": {
        "id": "qlounQatFW6H"
      },
      "outputs": [],
      "source": [
        "# Create the vocabularies\n",
        "integer2word, word2integer = create_vocabulary(rdd)"
      ]
    },
    {
      "cell_type": "code",
      "execution_count": null,
      "metadata": {
        "id": "vCkNzZWfHUTs"
      },
      "outputs": [],
      "source": [
        "# Substitute each word by its corresponding index\n",
        "def create_indexing(rdd, vocab):\n",
        " return rdd.map(lambda sentence: [vocab[word] for word in sentence])"
      ]
    },
    {
      "cell_type": "code",
      "execution_count": null,
      "metadata": {
        "id": "FGqYGN1LItyc"
      },
      "outputs": [],
      "source": [
        "rdd = create_indexing(rdd, word2integer)"
      ]
    },
    {
      "cell_type": "markdown",
      "metadata": {
        "id": "9Z3cuVvmbrkJ"
      },
      "source": [
        "## Algorithm Implementation"
      ]
    },
    {
      "cell_type": "markdown",
      "metadata": {
        "id": "XvmE9Zp6DzFw"
      },
      "source": [
        "### Step-by-step implementation"
      ]
    },
    {
      "cell_type": "code",
      "execution_count": null,
      "metadata": {
        "id": "Pk4L2JpSFwjs"
      },
      "outputs": [],
      "source": [
        "# Define a threshold\n",
        "threshold = rdd.count()*0.1\n",
        "threshold"
      ]
    },
    {
      "cell_type": "code",
      "execution_count": null,
      "metadata": {
        "id": "NckZ1XHm1kRM"
      },
      "outputs": [],
      "source": [
        "# Define a list for the final output\n",
        "results = []"
      ]
    },
    {
      "cell_type": "code",
      "execution_count": null,
      "metadata": {
        "id": "iiuQQTg9hE7L"
      },
      "outputs": [],
      "source": [
        "# Compute frequent singletons\n",
        "frequent_singletons = rdd.flatMap(lambda sentence: [(word, 1) for word in sentence])\\\n",
        "        .reduceByKey(lambda w1, w2: w1+w2)\\\n",
        "        .filter(lambda t: t[1]>threshold)"
      ]
    },
    {
      "cell_type": "code",
      "execution_count": null,
      "metadata": {
        "colab": {
          "base_uri": "https://localhost:8080/"
        },
        "id": "bWBHTqYnwbMv",
        "outputId": "b0c8c083-45f9-479a-e750-70572dac04c4"
      },
      "outputs": [
        {
          "output_type": "execute_result",
          "data": {
            "text/plain": [
              "[(2, 301), (6334, 323), (18, 132), (24, 105), (6348, 131)]"
            ]
          },
          "metadata": {},
          "execution_count": 54
        }
      ],
      "source": [
        "frequent_singletons.take(5)"
      ]
    },
    {
      "cell_type": "code",
      "execution_count": null,
      "metadata": {
        "colab": {
          "base_uri": "https://localhost:8080/"
        },
        "id": "vB3guW9FxrIf",
        "outputId": "dc090dec-dfa8-4fd0-f3e5-e849a36f8996"
      },
      "outputs": [
        {
          "output_type": "execute_result",
          "data": {
            "text/plain": [
              "57"
            ]
          },
          "metadata": {},
          "execution_count": 55
        }
      ],
      "source": [
        "len(frequent_singletons.collect())"
      ]
    },
    {
      "cell_type": "code",
      "execution_count": null,
      "metadata": {
        "id": "1s-cNGEo6cUP"
      },
      "outputs": [],
      "source": [
        "# Add frequent singletons to result\n",
        "results += frequent_singletons.collect()"
      ]
    },
    {
      "cell_type": "code",
      "source": [
        "# Discard the counter\n",
        "frequent_singletons = frequent_singletons.map(lambda t: t[0])"
      ],
      "metadata": {
        "id": "EA5FjvjYwjx1"
      },
      "execution_count": null,
      "outputs": []
    },
    {
      "cell_type": "code",
      "execution_count": null,
      "metadata": {
        "id": "RIzgJY-7HAmK"
      },
      "outputs": [],
      "source": [
        "# Comput candidates for next iteration by computing the cartesian product between\n",
        "# the list of frequent singletons and itself. Discard the couples with the same \n",
        "# element repeated and couples with same elements in different order\n",
        "\n",
        "candidates = frequent_singletons.cartesian(frequent_singletons)\\\n",
        "                                .filter(lambda t: len(set(t))==len(t))\\\n",
        "                                .map(lambda t: tuple(sorted(t)))\\\n",
        "                                .distinct()\\\n",
        "                                .collect()"
      ]
    },
    {
      "cell_type": "code",
      "source": [
        "candidates[1:6]"
      ],
      "metadata": {
        "colab": {
          "base_uri": "https://localhost:8080/"
        },
        "id": "3W90QLe8qeg9",
        "outputId": "445440f2-06ff-400b-ece4-903247514317"
      },
      "execution_count": null,
      "outputs": [
        {
          "output_type": "execute_result",
          "data": {
            "text/plain": [
              "[(2, 6348), (2, 6364), (2, 36), (2, 6420), (2, 6492)]"
            ]
          },
          "metadata": {},
          "execution_count": 59
        }
      ]
    },
    {
      "cell_type": "code",
      "execution_count": null,
      "metadata": {
        "id": "RQM1clT1TyJu"
      },
      "outputs": [],
      "source": [
        "# Compute frequent pairs\n",
        "\n",
        "frequent_pairs = rdd.flatMap(lambda sentence: [(tuple(candidate), 1) for candidate in candidates if set(candidate).issubset(set(sentence))])\\\n",
        "                    .reduceByKey(lambda t1,t2: t1+t2)\\\n",
        "                    .filter(lambda t: t[1]>threshold)"
      ]
    },
    {
      "cell_type": "code",
      "source": [
        "frequent_pairs.take(5)"
      ],
      "metadata": {
        "colab": {
          "base_uri": "https://localhost:8080/"
        },
        "id": "fLmPIB0ZlKm7",
        "outputId": "026e16b3-7cd8-41ef-d920-39e29c224cc8"
      },
      "execution_count": null,
      "outputs": [
        {
          "output_type": "execute_result",
          "data": {
            "text/plain": [
              "[((2, 6334), 111),\n",
              " ((6334, 6402), 178),\n",
              " ((61, 6485), 115),\n",
              " ((147, 6485), 145),\n",
              " ((43, 6485), 133)]"
            ]
          },
          "metadata": {},
          "execution_count": 61
        }
      ]
    },
    {
      "cell_type": "code",
      "execution_count": null,
      "metadata": {
        "colab": {
          "base_uri": "https://localhost:8080/"
        },
        "id": "Q5qkkeAKxvzM",
        "outputId": "964f9713-2c68-4077-e829-e574fdb4559e"
      },
      "outputs": [
        {
          "output_type": "execute_result",
          "data": {
            "text/plain": [
              "10"
            ]
          },
          "metadata": {},
          "execution_count": 62
        }
      ],
      "source": [
        "len(frequent_pairs.collect())"
      ]
    },
    {
      "cell_type": "code",
      "execution_count": null,
      "metadata": {
        "id": "-9U9bZQrxy20"
      },
      "outputs": [],
      "source": [
        "results+=frequent_pairs.collect()"
      ]
    },
    {
      "cell_type": "code",
      "execution_count": null,
      "metadata": {
        "colab": {
          "base_uri": "https://localhost:8080/"
        },
        "id": "8bwe8MxSOJ2F",
        "outputId": "4962890c-6de0-4395-98dd-3fba4329bdcf"
      },
      "outputs": [
        {
          "output_type": "execute_result",
          "data": {
            "text/plain": [
              "67"
            ]
          },
          "metadata": {},
          "execution_count": 64
        }
      ],
      "source": [
        "len(results)"
      ]
    },
    {
      "cell_type": "code",
      "source": [
        "# Discard the count\n",
        "frequent_pairs = frequent_pairs.map(lambda t: t[0])"
      ],
      "metadata": {
        "id": "ROoDgfXxw436"
      },
      "execution_count": null,
      "outputs": []
    },
    {
      "cell_type": "code",
      "execution_count": null,
      "metadata": {
        "id": "afrCoPQzSN4c"
      },
      "outputs": [],
      "source": [
        "# Compute pairs for next iteration\n",
        "candidates = frequent_pairs.cartesian(frequent_pairs)\\\n",
        "                          .map(lambda tuples: {item for tupla in tuples for item in tupla})\\\n",
        "                          .filter(lambda t: len(t) == 3)\\\n",
        "                          .map(lambda t: tuple(sorted(t)))\\\n",
        "                          .distinct()\\\n",
        "                          .collect()"
      ]
    },
    {
      "cell_type": "code",
      "execution_count": null,
      "metadata": {
        "colab": {
          "base_uri": "https://localhost:8080/"
        },
        "id": "PD-cN1aez-hp",
        "outputId": "d78402e0-704d-4a2e-dfe8-28d828fd2204"
      },
      "outputs": [
        {
          "output_type": "execute_result",
          "data": {
            "text/plain": [
              "[(43, 61, 6485),\n",
              " (2, 147, 6334),\n",
              " (2, 6334, 6485),\n",
              " (6334, 6402, 6485),\n",
              " (2, 6462, 6485)]"
            ]
          },
          "metadata": {},
          "execution_count": 67
        }
      ],
      "source": [
        "candidates[1:6]"
      ]
    },
    {
      "cell_type": "code",
      "execution_count": null,
      "metadata": {
        "id": "VhO9kwfmrKx2"
      },
      "outputs": [],
      "source": [
        "# Compute frequent triples\n",
        "frequent_triples = rdd.flatMap(lambda sentence: [(tuple(candidate), 1) for candidate in candidates if set(candidate).issubset(set(sentence))])\\\n",
        "                    .reduceByKey(lambda t1,t2: t1+t2)\\\n",
        "                    .filter(lambda t: t[1]>threshold)"
      ]
    },
    {
      "cell_type": "code",
      "execution_count": null,
      "metadata": {
        "colab": {
          "base_uri": "https://localhost:8080/"
        },
        "id": "K0gqfTSN2aGF",
        "outputId": "19896be1-1139-4e7d-82ef-8a34fc8e949b"
      },
      "outputs": [
        {
          "output_type": "execute_result",
          "data": {
            "text/plain": [
              "[((6334, 6402, 6485), 108)]"
            ]
          },
          "metadata": {},
          "execution_count": 69
        }
      ],
      "source": [
        "frequent_triples.take(1)"
      ]
    },
    {
      "cell_type": "code",
      "execution_count": null,
      "metadata": {
        "colab": {
          "base_uri": "https://localhost:8080/"
        },
        "id": "ib1d5KJo3O7z",
        "outputId": "d0548ee5-9864-44d6-d1c4-8b53ee75709a"
      },
      "outputs": [
        {
          "output_type": "execute_result",
          "data": {
            "text/plain": [
              "1"
            ]
          },
          "metadata": {},
          "execution_count": 70
        }
      ],
      "source": [
        "len(frequent_triples.collect())"
      ]
    },
    {
      "cell_type": "code",
      "execution_count": null,
      "metadata": {
        "id": "GxSDQqTE3M7f"
      },
      "outputs": [],
      "source": [
        "results += frequent_triples.collect()"
      ]
    },
    {
      "cell_type": "code",
      "source": [
        "frequent_triples = frequent_triples.map(lambda t: t[0])"
      ],
      "metadata": {
        "id": "YcydeYvaxDet"
      },
      "execution_count": null,
      "outputs": []
    },
    {
      "cell_type": "code",
      "source": [
        "results"
      ],
      "metadata": {
        "colab": {
          "base_uri": "https://localhost:8080/"
        },
        "id": "qFloHMp0KxF1",
        "outputId": "b29427ea-7f34-41fa-ddc7-9505b2cbb06c"
      },
      "execution_count": null,
      "outputs": [
        {
          "output_type": "execute_result",
          "data": {
            "text/plain": [
              "[(2, 301),\n",
              " (6334, 323),\n",
              " (18, 132),\n",
              " (24, 105),\n",
              " (6348, 131),\n",
              " (6364, 104),\n",
              " (36, 131),\n",
              " (58, 160),\n",
              " (66, 169),\n",
              " (6402, 262),\n",
              " (6420, 103),\n",
              " (6442, 198),\n",
              " (6462, 235),\n",
              " (146, 106),\n",
              " (6486, 123),\n",
              " (6492, 165),\n",
              " (6514, 170),\n",
              " (6516, 104),\n",
              " (6538, 103),\n",
              " (200, 173),\n",
              " (210, 180),\n",
              " (224, 101),\n",
              " (6600, 108),\n",
              " (326, 142),\n",
              " (6660, 104),\n",
              " (6788, 109),\n",
              " (762, 126),\n",
              " (6347, 122),\n",
              " (29, 235),\n",
              " (6349, 125),\n",
              " (6353, 156),\n",
              " (6361, 103),\n",
              " (6365, 120),\n",
              " (37, 109),\n",
              " (43, 230),\n",
              " (6381, 213),\n",
              " (61, 168),\n",
              " (63, 191),\n",
              " (65, 166),\n",
              " (6399, 125),\n",
              " (6417, 112),\n",
              " (75, 125),\n",
              " (6427, 167),\n",
              " (6449, 170),\n",
              " (111, 130),\n",
              " (147, 262),\n",
              " (6485, 412),\n",
              " (6501, 120),\n",
              " (201, 122),\n",
              " (215, 128),\n",
              " (229, 114),\n",
              " (6577, 128),\n",
              " (6607, 102),\n",
              " (6615, 156),\n",
              " (6631, 140),\n",
              " (6687, 110),\n",
              " (7051, 114),\n",
              " ((2, 6334), 111),\n",
              " ((6334, 6402), 178),\n",
              " ((61, 6485), 115),\n",
              " ((147, 6485), 145),\n",
              " ((43, 6485), 133),\n",
              " ((2, 147), 107),\n",
              " ((2, 6485), 136),\n",
              " ((6462, 6485), 132),\n",
              " ((6402, 6485), 145),\n",
              " ((6334, 6485), 165),\n",
              " ((6334, 6402, 6485), 108)]"
            ]
          },
          "metadata": {},
          "execution_count": 93
        }
      ]
    },
    {
      "cell_type": "code",
      "execution_count": null,
      "metadata": {
        "id": "D1BB4qRo3ZVU"
      },
      "outputs": [],
      "source": [
        "# Re-convert the indexes\n",
        "results = [(integer2word[t[0]],t[1]) if type(t[0])==int else (tuple([integer2word[element] for element in t[0]]),t[1]) for t in results]"
      ]
    },
    {
      "cell_type": "code",
      "source": [
        "results"
      ],
      "metadata": {
        "colab": {
          "base_uri": "https://localhost:8080/"
        },
        "id": "OYA_Os_zMhoH",
        "outputId": "e4ba0586-871d-47ba-b80f-c86436850fd4"
      },
      "execution_count": null,
      "outputs": [
        {
          "output_type": "execute_result",
          "data": {
            "text/plain": [
              "[('effect', 301),\n",
              " ('activity', 323),\n",
              " ('obtained', 132),\n",
              " ('t3', 105),\n",
              " ('condition', 131),\n",
              " ('well', 104),\n",
              " ('different', 131),\n",
              " ('rate', 160),\n",
              " ('increased', 169),\n",
              " ('enzyme', 262),\n",
              " ('inhibition', 103),\n",
              " ('also', 198),\n",
              " ('acid', 235),\n",
              " ('compared', 106),\n",
              " ('could', 123),\n",
              " ('cell', 165),\n",
              " ('studied', 170),\n",
              " ('present', 104),\n",
              " ('decreased', 103),\n",
              " ('increase', 173),\n",
              " ('change', 180),\n",
              " ('substrate', 101),\n",
              " ('weight', 108),\n",
              " ('may', 142),\n",
              " ('method', 104),\n",
              " ('decrease', 109),\n",
              " ('isolated', 126),\n",
              " ('rat', 122),\n",
              " ('result', 235),\n",
              " ('blood', 125),\n",
              " ('one', 156),\n",
              " ('property', 103),\n",
              " ('time', 120),\n",
              " ('molecular', 109),\n",
              " ('c', 230),\n",
              " ('found', 213),\n",
              " ('value', 168),\n",
              " ('two', 191),\n",
              " ('presence', 166),\n",
              " ('inhibited', 125),\n",
              " ('level', 112),\n",
              " ('used', 125),\n",
              " ('observed', 167),\n",
              " ('study', 170),\n",
              " ('similar', 130),\n",
              " ('concentration', 262),\n",
              " ('ph', 412),\n",
              " ('patient', 120),\n",
              " ('high', 122),\n",
              " ('showed', 128),\n",
              " ('group', 114),\n",
              " ('reaction', 128),\n",
              " ('purified', 102),\n",
              " ('protein', 156),\n",
              " ('degree', 140),\n",
              " ('treatment', 110),\n",
              " ('system', 114),\n",
              " (('effect', 'activity'), 111),\n",
              " (('activity', 'enzyme'), 178),\n",
              " (('value', 'ph'), 115),\n",
              " (('concentration', 'ph'), 145),\n",
              " (('c', 'ph'), 133),\n",
              " (('effect', 'concentration'), 107),\n",
              " (('effect', 'ph'), 136),\n",
              " (('acid', 'ph'), 132),\n",
              " (('enzyme', 'ph'), 145),\n",
              " (('activity', 'ph'), 165),\n",
              " (('activity', 'enzyme', 'ph'), 108)]"
            ]
          },
          "metadata": {},
          "execution_count": 114
        }
      ]
    },
    {
      "cell_type": "markdown",
      "metadata": {
        "id": "qQouW80wD2-9"
      },
      "source": [
        "### Generalized implementation"
      ]
    },
    {
      "cell_type": "code",
      "execution_count": 34,
      "metadata": {
        "colab": {
          "base_uri": "https://localhost:8080/"
        },
        "id": "AxhwKhTS-X00",
        "outputId": "564d23ae-0cf7-4157-bd74-ff838e117e9d"
      },
      "outputs": [
        {
          "output_type": "stream",
          "name": "stderr",
          "text": [
            "[nltk_data] Downloading package punkt to /root/nltk_data...\n",
            "[nltk_data]   Unzipping tokenizers/punkt.zip.\n",
            "[nltk_data] Downloading package stopwords to /root/nltk_data...\n",
            "[nltk_data]   Unzipping corpora/stopwords.zip.\n",
            "[nltk_data] Downloading package wordnet to /root/nltk_data...\n",
            "[nltk_data] Downloading package omw-1.4 to /root/nltk_data...\n"
          ]
        }
      ],
      "source": [
        "import string\n",
        "import nltk\n",
        "from nltk.stem import WordNetLemmatizer\n",
        "from nltk.tokenize import word_tokenize\n",
        "\n",
        "# Download required nltk data\n",
        "nltk.download('punkt')\n",
        "nltk.download('stopwords')\n",
        "nltk.download('wordnet')\n",
        "nltk.download('omw-1.4')\n",
        "\n",
        "# Define the function for preprocessing text\n",
        "def preprocess(row):\n",
        "    from nltk.corpus import stopwords\n",
        "    # Convert the text to lowercase\n",
        "    text = row.lower()\n",
        "\n",
        "    # Remove punctuation\n",
        "    text = text.translate(str.maketrans('', '', string.punctuation))\n",
        "\n",
        "    # Remove stopwords\n",
        "    stop_words = set(stopwords.words('english'))\n",
        "\n",
        "    # Tokenize\n",
        "    word_tokens = word_tokenize(text)\n",
        "    filtered_words = [word for word in word_tokens if word not in stop_words]\n",
        "\n",
        "    # Lemmatize the words\n",
        "    lemmatizer = WordNetLemmatizer()\n",
        "    lemmatized_words = [lemmatizer.lemmatize(word) for word in filtered_words]\n",
        "\n",
        "    # Return the preprocessed text as a list of unique words\n",
        "    return list(set(lemmatized_words))"
      ]
    },
    {
      "cell_type": "code",
      "execution_count": 35,
      "metadata": {
        "id": "F7DbETDRhNTR"
      },
      "outputs": [],
      "source": [
        "def create_vocabulary(rdd):\n",
        "\n",
        "    # Assign a index to each word\n",
        "    integer2word = rdd.flatMap(lambda line:line)\\\n",
        "                      .distinct().zipWithIndex()\\\n",
        "                      .map(lambda x: (x[1], x[0]))\\\n",
        "                      .collectAsMap()\n",
        "\n",
        "    # Reverse the key, value pairs\n",
        "    word2integer = {value:key for key, value in integer2word.items()}\n",
        "\n",
        "    return integer2word, word2integer"
      ]
    },
    {
      "cell_type": "code",
      "execution_count": 36,
      "metadata": {
        "id": "IfwYS4R9hNTS"
      },
      "outputs": [],
      "source": [
        "def create_indexing(rdd, vocab):\n",
        " return rdd.map(lambda sentence: [vocab[word] for word in sentence])"
      ]
    },
    {
      "cell_type": "code",
      "execution_count": 37,
      "metadata": {
        "id": "B8kv9E1wtUHT"
      },
      "outputs": [],
      "source": [
        "\"\"\"\n",
        "    Generate frequent itemsets using the Apriori algorithm.\n",
        "    \n",
        "    Inputs:\n",
        "        rdd (DataFrame): The input rdd containing the data to be analyzed.\n",
        "        perc_threshold (float): The threshold percentage of frequency below which an item is pruned.\n",
        "        max_itemset_size (int): The maximum size of the itemset to generate. If None, no limit is imposed.\n",
        "    \n",
        "    Returns:\n",
        "        list: A list of frequent itemsets.\n",
        "    \"\"\"\n",
        "\n",
        "def apriori(rdd, perc_threshold=.01, max_itemset_size = \"none\"):\n",
        "  # Compute the threshold on the basis of the percentage received as argument\n",
        "  threshold = rdd.count()*perc_threshold\n",
        "  \n",
        "  # Preprocess the rdd\n",
        "  rdd = rdd.map(preprocess)\n",
        "\n",
        "  # Create the vocabularies: word2integer and integer2word\n",
        "  integer2word, word2integer = create_vocabulary(rdd)\n",
        "\n",
        "  # Index the rdd\n",
        "  rdd = create_indexing(rdd, word2integer)\n",
        "\n",
        "  # Define a counter, a flag, a list for storing the results and for storing the candidates\n",
        "  iterate = True\n",
        "  results = []\n",
        "  candidates = []\n",
        "\n",
        "  # Compute frequent singletons\n",
        "  frequent_singletons = rdd.flatMap(lambda sentence: [(word, 1) for word in sentence])\\\n",
        "        .reduceByKey(lambda w1, w2: w1+w2)\\\n",
        "        .filter(lambda t: t[1]>threshold)\n",
        "\n",
        "  # Add the frequent singletons to the result\n",
        "  results += frequent_singletons.collect()\n",
        "\n",
        "  # Remove the count\n",
        "  frequent_singletons = frequent_singletons.map(lambda t:t[0])\n",
        "\n",
        "  # Comput candidates for next iteration by computing the cartesian product between\n",
        "  # the list of frequent singletons and itself. Discard the couples with the same \n",
        "  # element repeated and couples with same elements in different order\n",
        "  candidates = frequent_singletons.cartesian(frequent_singletons)\\\n",
        "                                .filter(lambda t: len(set(t))==len(t))\\\n",
        "                                .map(lambda t: tuple(sorted(t)))\\\n",
        "                                .distinct()\\\n",
        "                                .collect()\n",
        "  \n",
        "  # Define the candidate size, starting from triples\n",
        "  candidate_size = 3\n",
        "\n",
        "  while iterate:\n",
        "    \n",
        "    # If the maximum itemset size is 1, exit the loop\n",
        "    if max_itemset_size ==1:\n",
        "      break\n",
        "  \n",
        "    # Filtering Phase\n",
        "    frequent_k_itemset = rdd.flatMap(lambda sentence: [(tuple(candidate), 1) for candidate in candidates if set(candidate).issubset(set(sentence))])\\\n",
        "                    .reduceByKey(lambda t1,t2: t1+t2)\\\n",
        "                    .filter(lambda t: t[1]>threshold)\n",
        "\n",
        "    # Add the filtered items to the result list\n",
        "    results += frequent_k_itemset.collect()\n",
        "\n",
        "    # Remove the count\n",
        "    frequent_k_itemset = frequent_k_itemset.map(lambda t:t[0])\n",
        "\n",
        "    # Compute candidates for the next iteration  \n",
        "    candidates = frequent_k_itemset.cartesian(frequent_k_itemset)\\\n",
        "                          .map(lambda tuples: {item for tupla in tuples for item in tupla})\\\n",
        "                          .filter(lambda t: len(t) == candidate_size)\\\n",
        "                          .map(lambda t: tuple(sorted(t)))\\\n",
        "                          .distinct()\\\n",
        "                          .collect()\n",
        "\n",
        "    # Iterate until the candidate set is empty or the max itemset size has been reached\n",
        "    if ((max_itemset_size==\"none\") and (len(candidates) == 0)) or ((max_itemset_size != \"none\") and (candidate_size-1 == max_itemset_size)):\n",
        "      iterate = False\n",
        "\n",
        "    candidate_size += 1\n",
        "    \n",
        "  return [(integer2word[t[0]],t[1]) if type(t[0])==int else (tuple([integer2word[element] for element in t[0]]),t[1]) for t in results]"
      ]
    },
    {
      "cell_type": "code",
      "execution_count": null,
      "metadata": {
        "id": "nlShl9GcHgJl"
      },
      "outputs": [],
      "source": [
        "results = apriori(subset, 0.03)"
      ]
    },
    {
      "cell_type": "code",
      "execution_count": null,
      "metadata": {
        "colab": {
          "base_uri": "https://localhost:8080/"
        },
        "id": "ikGEPfLxHi07",
        "outputId": "709e5ea9-6e97-4a1b-f67d-a56709c26aff"
      },
      "outputs": [
        {
          "output_type": "execute_result",
          "data": {
            "text/plain": [
              "[('case', 99),\n",
              " ('alteration', 34),\n",
              " ('effect', 301),\n",
              " ('action', 67),\n",
              " ('atp', 94),\n",
              " ('caused', 79),\n",
              " ('addition', 98),\n",
              " ('reduced', 94),\n",
              " ('activity', 323),\n",
              " ('obtained', 132),\n",
              " ('since', 45),\n",
              " ('min', 67),\n",
              " ('t3', 105),\n",
              " ('show', 86),\n",
              " ('condition', 131),\n",
              " ('determined', 100),\n",
              " ('use', 63),\n",
              " ('well', 104),\n",
              " ('different', 131),\n",
              " ('thus', 65),\n",
              " ('test', 45),\n",
              " ('rate', 160),\n",
              " ('either', 100),\n",
              " ('increased', 169),\n",
              " ('enzyme', 262),\n",
              " ('whereas', 77),\n",
              " ('animal', 73),\n",
              " ('liver', 74),\n",
              " ('higher', 98),\n",
              " ('inhibition', 103),\n",
              " ('three', 97),\n",
              " ('mouse', 44),\n",
              " ('due', 99),\n",
              " ('le', 95),\n",
              " ('metabolism', 31),\n",
              " ('brain', 35),\n",
              " ('also', 198),\n",
              " ('order', 61),\n",
              " ('contains', 33),\n",
              " ('equal', 40),\n",
              " ('acid', 235),\n",
              " ('even', 44),\n",
              " ('measured', 94),\n",
              " ('first', 67),\n",
              " ('active', 84),\n",
              " ('carried', 39),\n",
              " ('compared', 106),\n",
              " ('mean', 71),\n",
              " ('could', 123),\n",
              " ('factor', 62),\n",
              " ('observation', 37),\n",
              " ('cell', 165),\n",
              " ('extent', 40),\n",
              " ('clinical', 47),\n",
              " ('markedly', 36),\n",
              " ('serum', 63),\n",
              " ('activation', 45),\n",
              " ('previously', 49),\n",
              " ('greater', 82),\n",
              " ('upon', 64),\n",
              " ('studied', 170),\n",
              " ('present', 104),\n",
              " ('small', 57),\n",
              " ('decreased', 103),\n",
              " ('increase', 173),\n",
              " ('approximately', 64),\n",
              " ('change', 180),\n",
              " ('amino', 58),\n",
              " ('binding', 68),\n",
              " ('involved', 40),\n",
              " ('substrate', 101),\n",
              " ('least', 47),\n",
              " ('respectively', 89),\n",
              " ('step', 34),\n",
              " ('stable', 40),\n",
              " ('based', 37),\n",
              " ('ib', 51),\n",
              " ('km', 73),\n",
              " ('added', 44),\n",
              " ('assay', 40),\n",
              " ('sd', 34),\n",
              " ('gel', 66),\n",
              " ('equilibrium', 40),\n",
              " ('affinity', 51),\n",
              " ('following', 74),\n",
              " ('weight', 108),\n",
              " ('electrophoresis', 44),\n",
              " ('significantly', 88),\n",
              " ('ion', 73),\n",
              " ('apparent', 60),\n",
              " ('single', 59),\n",
              " ('suggests', 35),\n",
              " ('structure', 46),\n",
              " ('may', 142),\n",
              " ('chain', 45),\n",
              " ('method', 104),\n",
              " ('derivative', 32),\n",
              " ('procedure', 55),\n",
              " ('catalytic', 31),\n",
              " ('lower', 70),\n",
              " ('tps', 41),\n",
              " ('region', 33),\n",
              " ('basis', 45),\n",
              " ('composition', 31),\n",
              " ('reported', 45),\n",
              " ('optimum', 80),\n",
              " ('k', 39),\n",
              " ('separated', 33),\n",
              " ('mum', 33),\n",
              " ('buffer', 50),\n",
              " ('determination', 38),\n",
              " ('per', 95),\n",
              " ('inactivation', 34),\n",
              " ('state', 59),\n",
              " ('described', 68),\n",
              " ('influence', 55),\n",
              " ('phosphate', 68),\n",
              " ('process', 78),\n",
              " ('dependent', 45),\n",
              " ('exhibited', 33),\n",
              " ('renal', 34),\n",
              " ('decrease', 109),\n",
              " ('effective', 36),\n",
              " ('appeared', 42),\n",
              " ('kinetic', 38),\n",
              " ('induced', 61),\n",
              " ('occurred', 47),\n",
              " ('maximum', 63),\n",
              " ('soluble', 33),\n",
              " ('required', 49),\n",
              " ('part', 48),\n",
              " ('type', 79),\n",
              " ('loss', 34),\n",
              " ('several', 62),\n",
              " ('component', 59),\n",
              " ('difference', 96),\n",
              " ('surface', 36),\n",
              " ('specie', 55),\n",
              " ('membrane', 74),\n",
              " ('b', 67),\n",
              " ('mixture', 53),\n",
              " ('four', 60),\n",
              " ('simple', 34),\n",
              " ('strongly', 31),\n",
              " ('pattern', 31),\n",
              " ('evidence', 47),\n",
              " ('kinetics', 40),\n",
              " ('electron', 41),\n",
              " ('initial', 55),\n",
              " ('phase', 41),\n",
              " ('lead', 34),\n",
              " ('term', 31),\n",
              " ('concluded', 48),\n",
              " ('new', 38),\n",
              " ('produce', 37),\n",
              " ('demonstrated', 60),\n",
              " ('p', 67),\n",
              " ('oxygen', 56),\n",
              " ('rapidly', 37),\n",
              " ('revealed', 41),\n",
              " ('partially', 35),\n",
              " ('major', 43),\n",
              " ('isolated', 126),\n",
              " ('fraction', 67),\n",
              " ('number', 59),\n",
              " ('slightly', 34),\n",
              " ('affected', 42),\n",
              " ('glucose', 37),\n",
              " ('urine', 41),\n",
              " ('contrast', 32),\n",
              " ('vitro', 43),\n",
              " ('gradient', 31),\n",
              " ('control', 97),\n",
              " ('beta', 35),\n",
              " ('cf', 35),\n",
              " ('plasma', 57),\n",
              " ('release', 31),\n",
              " ('respiratory', 31),\n",
              " ('administration', 58),\n",
              " ('mainly', 32),\n",
              " ('distribution', 31),\n",
              " ('dog', 44),\n",
              " ('rise', 37),\n",
              " ('fluid', 38),\n",
              " ('pressure', 48),\n",
              " ('agent', 53),\n",
              " ('early', 33),\n",
              " ('flow', 36),\n",
              " ('important', 41),\n",
              " ('drug', 81),\n",
              " ('dos', 40),\n",
              " ('subject', 32),\n",
              " ('ratio', 50),\n",
              " ('occurs', 34),\n",
              " ('amount', 90),\n",
              " ('made', 45),\n",
              " ('stimulation', 48),\n",
              " ('rat', 122),\n",
              " ('result', 235),\n",
              " ('blood', 125),\n",
              " ('one', 156),\n",
              " ('property', 103),\n",
              " ('time', 120),\n",
              " ('finding', 66),\n",
              " ('molecular', 109),\n",
              " ('combination', 35),\n",
              " ('significant', 99),\n",
              " ('c', 230),\n",
              " ('given', 60),\n",
              " ('experiment', 83),\n",
              " ('low', 93),\n",
              " ('mechanism', 86),\n",
              " ('total', 83),\n",
              " ('mg', 91),\n",
              " ('found', 213),\n",
              " ('comparison', 33),\n",
              " ('however', 96),\n",
              " ('known', 40),\n",
              " ('shown', 95),\n",
              " ('value', 168),\n",
              " ('two', 191),\n",
              " ('without', 70),\n",
              " ('characterized', 33),\n",
              " ('presence', 166),\n",
              " ('inhibited', 125),\n",
              " ('tissue', 95),\n",
              " ('normal', 98),\n",
              " ('compound', 44),\n",
              " ('dose', 44),\n",
              " ('culture', 54),\n",
              " ('level', 112),\n",
              " ('used', 125),\n",
              " ('related', 44),\n",
              " ('observed', 167),\n",
              " ('muscle', 48),\n",
              " ('reduction', 72),\n",
              " ('probably', 57),\n",
              " ('ca', 60),\n",
              " ('much', 53),\n",
              " ('although', 48),\n",
              " ('study', 170),\n",
              " ('similar', 130),\n",
              " ('h', 77),\n",
              " ('stimulated', 42),\n",
              " ('volume', 34),\n",
              " ('preparation', 92),\n",
              " ('possible', 75),\n",
              " ('discussed', 90),\n",
              " ('produced', 78),\n",
              " ('concentration', 262),\n",
              " ('period', 57),\n",
              " ('ph', 412),\n",
              " ('indicate', 64),\n",
              " ('suggesting', 31),\n",
              " ('g', 75),\n",
              " ('patient', 120),\n",
              " ('peak', 34),\n",
              " ('s', 45),\n",
              " ('responsible', 38),\n",
              " ('metabolite', 32),\n",
              " ('incubation', 44),\n",
              " ('whole', 36),\n",
              " ('associated', 62),\n",
              " ('high', 122),\n",
              " ('point', 44),\n",
              " ('t0', 40),\n",
              " ('tested', 40),\n",
              " ('inhibitor', 87),\n",
              " ('showed', 128),\n",
              " ('human', 82),\n",
              " ('inhibitory', 40),\n",
              " ('detected', 40),\n",
              " ('group', 114),\n",
              " ('constant', 81),\n",
              " ('data', 91),\n",
              " ('curve', 37),\n",
              " ('therefore', 40),\n",
              " ('hydrolysis', 49),\n",
              " ('technique', 57),\n",
              " ('formation', 72),\n",
              " ('reaction', 128),\n",
              " ('dehydrogenase', 39),\n",
              " ('formed', 35),\n",
              " ('dissociation', 41),\n",
              " ('mm', 99),\n",
              " ('spectrum', 31),\n",
              " ('site', 88),\n",
              " ('complex', 71),\n",
              " ('using', 92),\n",
              " ('chromatography', 72),\n",
              " ('chemical', 42),\n",
              " ('ec', 67),\n",
              " ('sodium', 68),\n",
              " ('purified', 102),\n",
              " ('latter', 34),\n",
              " ('protein', 156),\n",
              " ('residue', 49),\n",
              " ('degree', 140),\n",
              " ('measurement', 47),\n",
              " ('native', 35),\n",
              " ('increasing', 46),\n",
              " ('analysis', 66),\n",
              " ('cr', 35),\n",
              " ('rapid', 53),\n",
              " ('developed', 33),\n",
              " ('affect', 31),\n",
              " ('form', 93),\n",
              " ('hr', 52),\n",
              " ('followed', 49),\n",
              " ('treatment', 110),\n",
              " ('product', 47),\n",
              " ('homogeneous', 33),\n",
              " ('prepared', 31),\n",
              " ('indicated', 49),\n",
              " ('rather', 39),\n",
              " ('ionic', 33),\n",
              " ('purification', 33),\n",
              " ('yield', 39),\n",
              " ('coli', 33),\n",
              " ('column', 36),\n",
              " ('strain', 40),\n",
              " ('fold', 59),\n",
              " ('large', 39),\n",
              " ('function', 60),\n",
              " ('specific', 72),\n",
              " ('containing', 61),\n",
              " ('dependence', 35),\n",
              " ('appear', 31),\n",
              " ('range', 90),\n",
              " ('potential', 42),\n",
              " ('bound', 47),\n",
              " ('temperature', 93),\n",
              " ('solution', 87),\n",
              " ('interaction', 54),\n",
              " ('cl', 65),\n",
              " ('suggest', 80),\n",
              " ('molecule', 55),\n",
              " ('suggested', 45),\n",
              " ('free', 48),\n",
              " ('absence', 59),\n",
              " ('nm', 36),\n",
              " ('appears', 37),\n",
              " ('including', 35),\n",
              " ('partial', 35),\n",
              " ('seen', 35),\n",
              " ('synthesis', 47),\n",
              " ('subunit', 31),\n",
              " ('role', 48),\n",
              " ('examined', 52),\n",
              " ('investigated', 72),\n",
              " ('certain', 32),\n",
              " ('model', 35),\n",
              " ('relatively', 35),\n",
              " ('x', 68),\n",
              " ('relative', 35),\n",
              " ('co', 35),\n",
              " ('content', 55),\n",
              " ('characteristic', 52),\n",
              " ('growth', 56),\n",
              " ('within', 67),\n",
              " ('se', 50),\n",
              " ('heart', 37),\n",
              " ('system', 114),\n",
              " ('cause', 44),\n",
              " ('various', 92),\n",
              " ('extract', 57),\n",
              " ('rabbit', 40),\n",
              " ('marked', 36),\n",
              " ('c2', 40),\n",
              " ('water', 48),\n",
              " ('specificity', 43),\n",
              " ('released', 33),\n",
              " ('optimal', 38),\n",
              " ('body', 31),\n",
              " ('polypeptide', 31),\n",
              " ('contain', 32),\n",
              " ('stability', 37),\n",
              " ('vivo', 38),\n",
              " ('acute', 41),\n",
              " ('among', 35),\n",
              " ('e', 36),\n",
              " ('resulted', 40),\n",
              " ('medium', 82),\n",
              " ('kidney', 36),\n",
              " ('alkaline', 35),\n",
              " ('sample', 39),\n",
              " ('transfer', 31),\n",
              " ('treated', 38),\n",
              " ('respect', 36),\n",
              " ('relationship', 40),\n",
              " ('arterial', 45),\n",
              " ('metabolic', 33),\n",
              " ('hour', 44),\n",
              " ('injection', 33),\n",
              " ('response', 80),\n",
              " ('gas', 36),\n",
              " ('day', 69),\n",
              " ('transport', 36),\n",
              " ('production', 34),\n",
              " ('disease', 50),\n",
              " ('uptake', 38),\n",
              " ('established', 35),\n",
              " ('course', 32),\n",
              " ('author', 32),\n",
              " (('effect', 'atp'), 35),\n",
              " (('effect', 'caused'), 43),\n",
              " (('effect', 'reduced'), 42),\n",
              " (('atp', 'activity'), 51),\n",
              " (('effect', 'action'), 39),\n",
              " (('effect', 'addition'), 45),\n",
              " (('effect', 'activity'), 111),\n",
              " (('addition', 'activity'), 43),\n",
              " (('effect', 'condition'), 39),\n",
              " (('effect', 'determined'), 38),\n",
              " (('effect', 'well'), 41),\n",
              " (('effect', 'different'), 48),\n",
              " (('result', 'blood'), 31),\n",
              " (('result', 'one'), 41),\n",
              " (('result', 'time'), 34),\n",
              " (('result', 'significant'), 31),\n",
              " (('result', 'experiment'), 34),\n",
              " (('result', 'found'), 43),\n",
              " (('result', 'value'), 41),\n",
              " (('one', 'found'), 38),\n",
              " (('molecular', 'found'), 32),\n",
              " (('c', 'two'), 58),\n",
              " (('value', 'found'), 49),\n",
              " (('effect', 'obtained'), 38),\n",
              " (('effect', 'rate'), 56),\n",
              " (('rat', 'found'), 31),\n",
              " (('result', 'c'), 54),\n",
              " (('result', 'two'), 54),\n",
              " (('c', 'one'), 43),\n",
              " (('two', 'one'), 59),\n",
              " (('c', 'property'), 31),\n",
              " (('molecular', 'c'), 37),\n",
              " (('molecular', 'two'), 39),\n",
              " (('c', 'found'), 49),\n",
              " (('c', 'value'), 50),\n",
              " (('two', 'found'), 48),\n",
              " (('two', 'shown'), 33),\n",
              " (('value', 'two'), 38),\n",
              " (('effect', 'either'), 32),\n",
              " (('effect', 'higher'), 32),\n",
              " (('atp', 'enzyme'), 60),\n",
              " (('activity', 'either'), 36),\n",
              " (('higher', 'activity'), 44),\n",
              " (('effect', 'increased'), 69),\n",
              " (('effect', 'enzyme'), 79),\n",
              " (('effect', 'whereas'), 31),\n",
              " (('increased', 'activity'), 69),\n",
              " (('activity', 'enzyme'), 178),\n",
              " (('whereas', 'activity'), 33),\n",
              " (('activity', 'liver'), 45),\n",
              " (('increased', 'enzyme'), 40),\n",
              " (('enzyme', 'liver'), 39),\n",
              " (('presence', 'inhibited'), 35),\n",
              " (('effect', 'inhibition'), 52),\n",
              " (('effect', 'three'), 32),\n",
              " (('effect', 'le'), 39),\n",
              " (('activity', 'show'), 33),\n",
              " (('activity', 'well'), 33),\n",
              " (('activity', 'inhibition'), 51),\n",
              " (('three', 'activity'), 33),\n",
              " (('well', 'also'), 35),\n",
              " (('result', 'study'), 52),\n",
              " (('found', 'study'), 31),\n",
              " (('similar', 'observed'), 32),\n",
              " (('effect', 'due'), 44),\n",
              " (('effect', 'also'), 78),\n",
              " (('due', 'activity'), 35),\n",
              " (('activity', 'also'), 70),\n",
              " (('result', 'used'), 37),\n",
              " (('result', 'observed'), 44),\n",
              " (('result', 'similar'), 36),\n",
              " (('found', 'normal'), 32),\n",
              " (('similar', 'found'), 31),\n",
              " (('observed', 'study'), 32),\n",
              " (('amount', 'ph'), 48),\n",
              " (('result', 'ph'), 93),\n",
              " (('significant', 'ph'), 44),\n",
              " (('mg', 'ph'), 56),\n",
              " (('found', 'ph'), 100),\n",
              " (('value', 'study'), 34),\n",
              " (('value', 'ph'), 115),\n",
              " (('used', 'concentration'), 35),\n",
              " (('study', 'ph'), 81),\n",
              " (('h', 'ph'), 45),\n",
              " (('produced', 'ph'), 37),\n",
              " (('effect', 'acid'), 72),\n",
              " (('effect', 'compared'), 43),\n",
              " (('obtained', 'acid'), 32),\n",
              " (('increased', 'acid'), 39),\n",
              " (('result', 'concentration'), 71),\n",
              " (('significant', 'concentration'), 35),\n",
              " (('mg', 'concentration'), 34),\n",
              " (('concentration', 'found'), 66),\n",
              " (('value', 'concentration'), 70),\n",
              " (('used', 'ph'), 52),\n",
              " (('concentration', 'study'), 44),\n",
              " (('preparation', 'ph'), 59),\n",
              " (('concentration', 'ph'), 145),\n",
              " (('effect', 'cell'), 43),\n",
              " (('activity', 'cell'), 65),\n",
              " (('also', 'cell'), 42),\n",
              " (('effect', 'could'), 35),\n",
              " (('obtained', 'activity'), 50),\n",
              " (('activity', 'could'), 35),\n",
              " (('inhibition', 'acid'), 34),\n",
              " (('acid', 'cell'), 45),\n",
              " (('effect', 'greater'), 38),\n",
              " (('effect', 'upon'), 32),\n",
              " (('effect', 'studied'), 71),\n",
              " (('acid', 'studied'), 40),\n",
              " (('cell', 'present'), 31),\n",
              " (('concentration', 'shown'), 34),\n",
              " (('effect', 'increase'), 77),\n",
              " (('rate', 'increase'), 40),\n",
              " (('increase', 'studied'), 43),\n",
              " (('increase', 'decreased'), 35),\n",
              " (('one', 'ph'), 64),\n",
              " (('time', 'ph'), 61),\n",
              " (('experiment', 'ph'), 35),\n",
              " (('level', 'ph'), 43),\n",
              " (('high', 'ph'), 62),\n",
              " (('effect', 'decreased'), 58),\n",
              " (('rate', 'studied'), 32),\n",
              " (('g', 'ph'), 44),\n",
              " (('enzyme', 'inhibition'), 47),\n",
              " (('substrate', 'enzyme'), 71),\n",
              " (('substrate', 'acid'), 34),\n",
              " (('presence', 'one'), 31),\n",
              " (('presence', 'found'), 33),\n",
              " (('shown', 'ph'), 47),\n",
              " (('value', 'presence'), 35),\n",
              " (('two', 'similar'), 35),\n",
              " (('c', 'showed'), 35),\n",
              " (('two', 'showed'), 35),\n",
              " (('presence', 'ph'), 89),\n",
              " (('ph', 'inhibitor'), 54),\n",
              " (('group', 'ph'), 54),\n",
              " (('ph', 'data'), 42),\n",
              " (('effect', 'change'), 73),\n",
              " (('enzyme', 'acid'), 86),\n",
              " (('active', 'enzyme'), 45),\n",
              " (('change', 'enzyme'), 32),\n",
              " (('respectively', 'enzyme'), 41),\n",
              " (('acid', 'decreased'), 34),\n",
              " (('change', 'acid'), 39),\n",
              " (('amino', 'acid'), 50),\n",
              " (('similar', 'one'), 31),\n",
              " (('c', 'presence'), 47),\n",
              " (('c', 'ph'), 133),\n",
              " (('two', 'presence'), 47),\n",
              " (('two', 'ph'), 92),\n",
              " (('showed', 'found'), 35),\n",
              " (('value', 'showed'), 31),\n",
              " (('similar', 'ph'), 59),\n",
              " (('showed', 'ph'), 72),\n",
              " (('human', 'ph'), 44),\n",
              " (('ph', 'constant'), 52),\n",
              " (('activity', 'condition'), 52),\n",
              " (('condition', 'enzyme'), 37),\n",
              " (('activity', 'present'), 43),\n",
              " (('substrate', 'activity'), 64),\n",
              " (('km', 'activity'), 48),\n",
              " (('enzyme', 'present'), 40),\n",
              " (('km', 'enzyme'), 56),\n",
              " (('result', 'reaction'), 38),\n",
              " (('found', 'reaction'), 31),\n",
              " (('concentration', 'inhibited'), 46),\n",
              " (('rate', 'activity'), 59),\n",
              " (('compared', 'activity'), 32),\n",
              " (('activity', 'greater'), 33),\n",
              " (('activity', 'studied'), 63),\n",
              " (('rate', 'increased'), 36),\n",
              " (('rate', 'enzyme'), 52),\n",
              " (('increased', 'studied'), 41),\n",
              " (('enzyme', 'studied'), 45),\n",
              " (('result', 'indicate'), 37),\n",
              " (('concentration', 'time'), 38),\n",
              " (('concentration', 'high'), 47),\n",
              " (('concentration', 'reaction'), 42),\n",
              " (('concentration', 'mm'), 50),\n",
              " (('concentration', 'site'), 34),\n",
              " (('determined', 'enzyme'), 33),\n",
              " (('determined', 'acid'), 35),\n",
              " (('enzyme', 'weight'), 65),\n",
              " (('acid', 'weight'), 42),\n",
              " (('gel', 'weight'), 46),\n",
              " (('weight', 'electrophoresis'), 31),\n",
              " (('two', 'purified'), 37),\n",
              " (('chromatography', 'purified'), 38),\n",
              " (('addition', 'enzyme'), 36),\n",
              " (('gel', 'enzyme'), 41),\n",
              " (('gel', 'electrophoresis'), 38),\n",
              " (('molecular', 'chromatography'), 33),\n",
              " (('molecular', 'purified'), 52),\n",
              " (('c', 'concentration'), 67),\n",
              " (('two', 'concentration'), 56),\n",
              " (('c', 'protein'), 47),\n",
              " (('c', 'degree'), 98),\n",
              " (('two', 'protein'), 46),\n",
              " (('two', 'degree'), 32),\n",
              " (('concentration', 'protein'), 47),\n",
              " (('concentration', 'degree'), 52),\n",
              " (('ph', 'analysis'), 33),\n",
              " (('protein', 'degree'), 32),\n",
              " (('found', 'protein'), 35),\n",
              " (('concentration', 'group'), 35),\n",
              " (('ph', 'protein'), 93),\n",
              " (('ph', 'degree'), 98),\n",
              " (('acid', 'method'), 31),\n",
              " (('result', 'group'), 33),\n",
              " (('may', 'acid'), 36),\n",
              " (('change', 'studied'), 49),\n",
              " (('change', 'may'), 33),\n",
              " (('result', 'constant'), 34),\n",
              " (('result', 'protein'), 42),\n",
              " (('result', 'degree'), 37),\n",
              " (('c', 'reaction'), 37),\n",
              " (('reaction', 'protein'), 34),\n",
              " (('low', 'ph'), 56),\n",
              " (('ph', 'reaction'), 67),\n",
              " (('form', 'ph'), 54),\n",
              " (('form', 'reaction'), 32),\n",
              " (('result', 'treatment'), 33),\n",
              " (('one', 'protein'), 39),\n",
              " (('ph', 'treatment'), 34),\n",
              " (('activity', 'weight'), 71),\n",
              " (('molecular', 'ph'), 72),\n",
              " (('inhibited', 'purified'), 31),\n",
              " (('site', 'ph'), 50),\n",
              " (('activity', 'acid'), 94),\n",
              " (('gel', 'activity'), 44),\n",
              " (('optimum', 'activity'), 50),\n",
              " (('optimum', 'enzyme'), 55),\n",
              " (('however', 'ph'), 38),\n",
              " (('inhibited', 'ph'), 69),\n",
              " (('ph', 'purified'), 70),\n",
              " (('atp', 'also'), 33),\n",
              " (('min', 'activity'), 31),\n",
              " (('increase', 'activity'), 56),\n",
              " (('increase', 'also'), 39),\n",
              " (('increase', 'acid'), 43),\n",
              " (('km', 'optimum'), 32),\n",
              " (('c', 'observed'), 48),\n",
              " (('two', 'observed'), 39),\n",
              " (('c', 'purified'), 34),\n",
              " (('observed', 'degree'), 32),\n",
              " (('mm', 'ph'), 60),\n",
              " (('using', 'ph'), 49),\n",
              " (('sodium', 'ph'), 42),\n",
              " (('ph', 'fold'), 37),\n",
              " (('specific', 'ph'), 31),\n",
              " (('respectively', 'activity'), 36),\n",
              " (('activity', 'per'), 37),\n",
              " (('rate', 'also'), 44),\n",
              " (('rate', 'acid'), 51),\n",
              " (('enzyme', 'also'), 62),\n",
              " (('enzyme', 'per'), 31),\n",
              " (('also', 'acid'), 51),\n",
              " (('value', 'observed'), 33),\n",
              " (('value', 'degree'), 37),\n",
              " (('observed', 'ph'), 82),\n",
              " (('ph', 'chromatography'), 48),\n",
              " (('ph', 'containing'), 34),\n",
              " (('effect', 'may'), 48),\n",
              " (('may', 'enzyme'), 37),\n",
              " (('ph', 'range'), 63),\n",
              " (('effect', 'decrease'), 52),\n",
              " (('result', 'presence'), 42),\n",
              " (('result', 'suggest'), 42),\n",
              " (('one', 'study'), 34),\n",
              " (('mechanism', 'ph'), 34),\n",
              " (('presence', 'study'), 35),\n",
              " (('presence', 'reaction'), 39),\n",
              " (('dissociation', 'ph'), 31),\n",
              " (('concentration', 'range'), 36),\n",
              " (('concentration', 'solution'), 37),\n",
              " (('ph', 'temperature'), 68),\n",
              " (('suggest', 'ph'), 32),\n",
              " (('effect', 'ion'), 33),\n",
              " (('effect', 'per'), 34),\n",
              " (('concentration', 'one'), 34),\n",
              " (('two', 'study'), 36),\n",
              " (('presence', 'concentration'), 59),\n",
              " (('concentration', 'inhibitor'), 32),\n",
              " (('concentration', 'temperature'), 32),\n",
              " (('solution', 'ph'), 60),\n",
              " (('change', 'decrease'), 37),\n",
              " (('presence', 'absence'), 31),\n",
              " (('presence', 'observed'), 44),\n",
              " (('active', 'activity'), 44),\n",
              " (('may', 'activity'), 48),\n",
              " (('presence', 'protein'), 35),\n",
              " (('complex', 'protein'), 32),\n",
              " (('ca', 'ph'), 34),\n",
              " (('ph', 'investigated'), 39),\n",
              " (('enzyme', 'cell'), 54),\n",
              " (('also', 'studied'), 32),\n",
              " (('rat', 'ph'), 40),\n",
              " (('result', 'showed'), 36),\n",
              " (('observed', 'reaction'), 31),\n",
              " (('activity', 'method'), 32),\n",
              " (('concentration', 'observed'), 52),\n",
              " (('observed', 'protein'), 33),\n",
              " (('change', 'activity'), 59),\n",
              " (('normal', 'ph'), 35),\n",
              " (('increase', 'change'), 58),\n",
              " (('ph', 'x'), 37),\n",
              " (('different', 'activity'), 61),\n",
              " (('different', 'enzyme'), 45),\n",
              " (('different', 'also'), 34),\n",
              " (('concentration', 'constant'), 38),\n",
              " (('purified', 'protein'), 31),\n",
              " (('molecular', 'protein'), 43),\n",
              " (('low', 'concentration'), 42),\n",
              " (('ph', 'content'), 31),\n",
              " (('determined', 'activity'), 41),\n",
              " (('formation', 'ph'), 33),\n",
              " (('ph', 'complex'), 35),\n",
              " (('acid', 'could'), 32),\n",
              " (('increase', 'decrease'), 54),\n",
              " (('ec', 'ph'), 36),\n",
              " (('different', 'acid'), 34),\n",
              " (('extract', 'ph'), 33),\n",
              " (('ph', 'system'), 41),\n",
              " (('fraction', 'activity'), 38),\n",
              " (('isolated', 'activity'), 48),\n",
              " (('isolated', 'acid'), 39),\n",
              " (('fraction', 'enzyme'), 33),\n",
              " (('concentration', 'rat'), 37),\n",
              " (('concentration', 'showed'), 35),\n",
              " (('obtained', 'enzyme'), 39),\n",
              " (('ph', 'various'), 52),\n",
              " (('c', 'range'), 36),\n",
              " (('isolated', 'enzyme'), 42),\n",
              " (('similar', 'concentration'), 33),\n",
              " (('c', 'temperature'), 57),\n",
              " (('degree', 'temperature'), 45),\n",
              " (('c', 'high'), 35),\n",
              " (('blood', 'ph'), 45),\n",
              " (('c', 'inhibited'), 42),\n",
              " (('concentration', 'blood'), 33),\n",
              " (('c', 'study'), 33),\n",
              " (('value', 'protein'), 32),\n",
              " (('property', 'ph'), 52),\n",
              " (('effect', 'significantly'), 36),\n",
              " (('increased', 'cell'), 36),\n",
              " (('medium', 'ph'), 40),\n",
              " (('effect', 'isolated'), 34),\n",
              " (('activity', 'decreased'), 34),\n",
              " (('increased', 'decreased'), 53),\n",
              " (('concentration', 'system'), 39),\n",
              " (('increased', 'change'), 43),\n",
              " (('change', 'also'), 37),\n",
              " (('arterial', 'blood'), 36),\n",
              " (('increased', 'increase'), 59),\n",
              " (('concentration', 'level'), 36),\n",
              " (('blood', 'patient'), 33),\n",
              " (('increase', 'control'), 31),\n",
              " (('growth', 'ph'), 32),\n",
              " (('activity', 'control'), 33),\n",
              " (('effect', 'drug'), 37),\n",
              " (('concentration', 'medium'), 31),\n",
              " (('one', 'observed'), 31),\n",
              " (('effect', 'rat'), 45),\n",
              " (('effect', 'c'), 67),\n",
              " (('effect', 'however'), 40),\n",
              " (('effect', 'two'), 48),\n",
              " (('t3', 'result'), 32),\n",
              " (('obtained', 'c'), 44),\n",
              " (('c', 'show'), 31),\n",
              " (('c', 'condition'), 34),\n",
              " (('condition', 'found'), 43),\n",
              " (('result', 'rate'), 41),\n",
              " (('determined', 'value'), 35),\n",
              " (('different', 'found'), 33),\n",
              " (('rate', 'two'), 33),\n",
              " (('effect', 'result'), 75),\n",
              " (('effect', 'blood'), 48),\n",
              " (('effect', 'one'), 48),\n",
              " (('effect', 'property'), 32),\n",
              " (('effect', 'time'), 46),\n",
              " (('effect', 'significant'), 37),\n",
              " (('effect', 'experiment'), 32),\n",
              " (('effect', 'mechanism'), 36),\n",
              " (('effect', 'mg'), 36),\n",
              " (('effect', 'found'), 51),\n",
              " (('effect', 'value'), 56),\n",
              " (('obtained', 'result'), 47),\n",
              " (('result', 'show'), 39),\n",
              " (('result', 'condition'), 32),\n",
              " (('obtained', 'value'), 39),\n",
              " (('result', 'different'), 33),\n",
              " (('determined', 'c'), 31),\n",
              " (('different', 'c'), 44),\n",
              " (('different', 'two'), 42),\n",
              " (('c', 'rate'), 39),\n",
              " (('rate', 'found'), 37),\n",
              " (('rate', 'value'), 35),\n",
              " (('effect', 'inhibited'), 48),\n",
              " (('effect', 'normal'), 35),\n",
              " (('activity', 'rat'), 53),\n",
              " (('presence', 'activity'), 65),\n",
              " (('activity', 'inhibited'), 70),\n",
              " (('activity', 'normal'), 34),\n",
              " (('increased', 'rat'), 32),\n",
              " (('increased', 'normal'), 36),\n",
              " (('presence', 'enzyme'), 62),\n",
              " (('effect', 'presence'), 60),\n",
              " (('presence', 'atp'), 34),\n",
              " (('activity', 'tissue'), 33),\n",
              " (('rat', 'enzyme'), 33),\n",
              " (('rat', 'liver'), 35),\n",
              " (('increased', 'tissue'), 36),\n",
              " (('inhibited', 'enzyme'), 62),\n",
              " (('effect', 'used'), 39),\n",
              " (('effect', 'observed'), 65),\n",
              " (('effect', 'similar'), 34),\n",
              " (('result', 'activity'), 69),\n",
              " (('activity', 'observed'), 62),\n",
              " (('result', 'increased'), 53),\n",
              " (('increased', 'observed'), 35),\n",
              " (('result', 'also'), 48),\n",
              " (('found', 'also'), 44),\n",
              " (('effect', 'level'), 38),\n",
              " (('effect', 'study'), 54),\n",
              " (('activity', 'property'), 45),\n",
              " (('activity', 'found'), 92),\n",
              " (('activity', 'level'), 36),\n",
              " (('used', 'activity'), 33),\n",
              " (('activity', 'study'), 55),\n",
              " (('similar', 'activity'), 44),\n",
              " (('increased', 'found'), 47),\n",
              " (('increased', 'level'), 41),\n",
              " (('observed', 'also'), 39),\n",
              " (('also', 'study'), 31),\n",
              " (('similar', 'also'), 36),\n",
              " (('effect', 'concentration'), 107),\n",
              " (('concentration', 'reduced'), 31),\n",
              " (('reduced', 'ph'), 40),\n",
              " (('obtained', 'concentration'), 32),\n",
              " (('min', 'ph'), 31),\n",
              " (('concentration', 'show'), 34),\n",
              " (('show', 'ph'), 44),\n",
              " (('value', 'increased'), 33),\n",
              " (('increased', 'concentration'), 50),\n",
              " (('three', 'ph'), 41),\n",
              " (('amount', 'acid'), 32),\n",
              " (('result', 'acid'), 57),\n",
              " (('result', 'compared'), 32),\n",
              " (('found', 'acid'), 60),\n",
              " (('value', 'acid'), 41),\n",
              " (('study', 'acid'), 39),\n",
              " (('compared', 'concentration'), 33),\n",
              " (('effect', 'produced'), 31),\n",
              " (('effect', 'ph'), 136),\n",
              " (('result', 'reduced'), 32),\n",
              " (('obtained', 'ph'), 68),\n",
              " (('increased', 'ph'), 66),\n",
              " (('due', 'ph'), 42),\n",
              " (('preparation', 'acid'), 31),\n",
              " (('concentration', 'acid'), 68),\n",
              " (('acid', 'ph'), 132),\n",
              " (('concentration', 'measured'), 36),\n",
              " (('measured', 'ph'), 48),\n",
              " (('active', 'ph'), 50),\n",
              " (('compared', 'ph'), 48),\n",
              " (('amount', 'activity'), 36),\n",
              " (('preparation', 'activity'), 52),\n",
              " (('g', 'activity'), 39),\n",
              " (('concentration', 'inhibition'), 48),\n",
              " (('shown', 'acid'), 35),\n",
              " (('concentration', 'cell'), 47),\n",
              " (('concentration', 'greater'), 36),\n",
              " (('concentration', 'studied'), 46),\n",
              " (('t3', 'ph'), 46),\n",
              " (('either', 'ph'), 37),\n",
              " (('ph', 'studied'), 78),\n",
              " (('ph', 'decreased'), 45),\n",
              " (('increase', 'level'), 38),\n",
              " (('increase', 'ph'), 71),\n",
              " (('effect', 'high'), 40),\n",
              " (('rate', 'ph'), 86),\n",
              " (('effect', 'showed'), 39),\n",
              " (('c', 'atp'), 32),\n",
              " (('atp', 'ph'), 56),\n",
              " (('one', 'enzyme'), 50),\n",
              " (('found', 'enzyme'), 71),\n",
              " (('shown', 'enzyme'), 43),\n",
              " (('value', 'enzyme'), 59),\n",
              " (('c', 'inhibition'), 32),\n",
              " (('inhibition', 'ph'), 51),\n",
              " (('group', 'enzyme'), 37),\n",
              " (('one', 'acid'), 39),\n",
              " (('presence', 'acid'), 46),\n",
              " (('group', 'acid'), 35),\n",
              " (('value', 'change'), 32),\n",
              " (('c', 'substrate'), 35),\n",
              " (('two', 'substrate'), 36),\n",
              " (('presence', 'change'), 31),\n",
              " (('substrate', 'ph'), 69),\n",
              " (('effect', 'inhibitor'), 32),\n",
              " (('effect', 'group'), 44),\n",
              " (('c', 'enzyme'), 75),\n",
              " (('two', 'enzyme'), 71),\n",
              " (('similar', 'enzyme'), 38),\n",
              " (('enzyme', 'ph'), 145),\n",
              " (('enzyme', 'inhibitor'), 46),\n",
              " (('c', 'acid'), 58),\n",
              " (('two', 'acid'), 55),\n",
              " (('similar', 'acid'), 38),\n",
              " (('acid', 'inhibitor'), 37),\n",
              " (('showed', 'acid'), 35),\n",
              " (('c', 'change'), 46),\n",
              " (('change', 'found'), 41),\n",
              " (('two', 'change'), 31),\n",
              " (('ph', 'approximately'), 41),\n",
              " (('change', 'ph'), 80),\n",
              " (('amino', 'ph'), 31),\n",
              " (('binding', 'ph'), 36),\n",
              " (('respectively', 'ph'), 51),\n",
              " (('value', 'activity'), 65),\n",
              " (('concentration', 'condition'), 40),\n",
              " (('high', 'activity'), 53),\n",
              " (('mm', 'activity'), 45),\n",
              " (('site', 'activity'), 33),\n",
              " (('result', 'enzyme'), 57),\n",
              " (('higher', 'found'), 33),\n",
              " (('rate', 'concentration'), 60),\n",
              " (('inhibited', 'inhibition'), 39),\n",
              " (('high', 'enzyme'), 44),\n",
              " (('mm', 'enzyme'), 48),\n",
              " (('site', 'enzyme'), 34),\n",
              " (('result', 'studied'), 45),\n",
              " (('found', 'studied'), 46),\n",
              " (('value', 'studied'), 36),\n",
              " (('concentration', 'substrate'), 39),\n",
              " (('concentration', 'km'), 32),\n",
              " (('substrate', 'reaction'), 33),\n",
              " (('activity', 'time'), 38),\n",
              " (('concentration', 'activity'), 93),\n",
              " (('activity', 'reaction'), 57),\n",
              " (('concentration', 'enzyme'), 68),\n",
              " (('higher', 'concentration'), 37),\n",
              " (('rate', 'reaction'), 39),\n",
              " (('enzyme', 'reaction'), 57),\n",
              " (('value', 'km'), 41),\n",
              " (('binding', 'site'), 35),\n",
              " (('molecular', 'enzyme'), 67),\n",
              " (('enzyme', 'chromatography'), 37),\n",
              " (('enzyme', 'purified'), 75),\n",
              " (('molecular', 'acid'), 37),\n",
              " (('acid', 'purified'), 38),\n",
              " (('molecular', 'gel'), 46),\n",
              " (('molecular', 'electrophoresis'), 31),\n",
              " (('two', 'weight'), 37),\n",
              " (('gel', 'chromatography'), 32),\n",
              " (('gel', 'purified'), 37),\n",
              " (('chromatography', 'weight'), 32),\n",
              " (('g', 'enzyme'), 36),\n",
              " (('ec', 'enzyme'), 44),\n",
              " (('molecular', 'weight'), 84),\n",
              " (('weight', 'purified'), 52),\n",
              " (('c', 'increase'), 35),\n",
              " (('two', 'increase'), 33),\n",
              " (('concentration', 'increase'), 55),\n",
              " (('significantly', 'ph'), 31),\n",
              " (('ph', 'ion'), 49),\n",
              " (('apparent', 'ph'), 45),\n",
              " (('concentration', 'addition'), 38),\n",
              " (('addition', 'ph'), 44),\n",
              " (('concentration', 'ion'), 38),\n",
              " (('increase', 'degree'), 31),\n",
              " (('obtained', 'degree'), 37),\n",
              " (('acid', 'protein'), 51),\n",
              " (('acid', 'degree'), 41),\n",
              " (('studied', 'degree'), 39),\n",
              " (('result', 'change'), 49),\n",
              " (('result', 'may'), 43),\n",
              " (('change', 'protein'), 32),\n",
              " (('change', 'degree'), 32),\n",
              " (('c', 'studied'), 39),\n",
              " (('acid', 'reaction'), 32),\n",
              " (('c', 'may'), 37),\n",
              " (('low', 'activity'), 45),\n",
              " (('activity', 'protein'), 76),\n",
              " (('form', 'activity'), 37),\n",
              " (('activity', 'treatment'), 37),\n",
              " (('rate', 'protein'), 34),\n",
              " (('enzyme', 'protein'), 76),\n",
              " (('form', 'enzyme'), 40),\n",
              " (('le', 'ph'), 48),\n",
              " (('activity', 'one'), 55),\n",
              " (('activity', 'ph'), 165),\n",
              " (('lower', 'ph'), 36),\n",
              " (('molecular', 'activity'), 69),\n",
              " (('mg', 'activity'), 43),\n",
              " ...]"
            ]
          },
          "metadata": {},
          "execution_count": 235
        }
      ],
      "source": [
        "results"
      ]
    },
    {
      "cell_type": "markdown",
      "metadata": {
        "id": "iJBoMx6rjpBi"
      },
      "source": [
        "## Experiments"
      ]
    },
    {
      "cell_type": "markdown",
      "metadata": {
        "id": "DyIFVSO8kGFL"
      },
      "source": [
        "### Computational time as a function of max itemset size"
      ]
    },
    {
      "cell_type": "code",
      "execution_count": null,
      "metadata": {
        "id": "SvD3kIFBjrMO"
      },
      "outputs": [],
      "source": [
        "from time import time\n",
        "import statistics"
      ]
    },
    {
      "cell_type": "code",
      "execution_count": null,
      "metadata": {
        "colab": {
          "base_uri": "https://localhost:8080/"
        },
        "id": "HNM-he49k01q",
        "outputId": "61a86d74-3d0f-4d83-88c4-886634f67c75"
      },
      "outputs": [
        {
          "name": "stdout",
          "output_type": "stream",
          "text": [
            "Threshold: 0.04\n",
            "\n",
            "Max itemsize: 1\n",
            "\n",
            "Max itemsize: 2\n",
            "Computing candidate size 3\n",
            "\n",
            "Max itemsize: 3\n",
            "Computing candidate size 3\n",
            "Computing candidate size 4\n",
            "\n",
            "Max itemsize: 4\n",
            "Computing candidate size 3\n",
            "Computing candidate size 4\n",
            "Computing candidate size 5\n",
            "\n",
            "Max itemsize: none\n",
            "Computing candidate size 3\n",
            "Computing candidate size 4\n",
            "Computing candidate size 5\n",
            "Computing candidate size 6\n",
            "====================\n",
            "\n",
            "Threshold: 0.05\n",
            "\n",
            "Max itemsize: 1\n",
            "\n",
            "Max itemsize: 2\n",
            "Computing candidate size 3\n",
            "\n",
            "Max itemsize: 3\n",
            "Computing candidate size 3\n",
            "Computing candidate size 4\n",
            "\n",
            "Max itemsize: 4\n",
            "Computing candidate size 3\n",
            "Computing candidate size 4\n",
            "Computing candidate size 5\n",
            "\n",
            "Max itemsize: none\n",
            "Computing candidate size 3\n",
            "Computing candidate size 4\n",
            "Computing candidate size 5\n",
            "====================\n",
            "\n",
            "Threshold: 0.06\n",
            "\n",
            "Max itemsize: 1\n",
            "\n",
            "Max itemsize: 2\n",
            "Computing candidate size 3\n",
            "\n",
            "Max itemsize: 3\n",
            "Computing candidate size 3\n",
            "Computing candidate size 4\n",
            "\n",
            "Max itemsize: 4\n",
            "Computing candidate size 3\n",
            "Computing candidate size 4\n",
            "Computing candidate size 5\n",
            "\n",
            "Max itemsize: none\n",
            "Computing candidate size 3\n",
            "Computing candidate size 4\n",
            "Computing candidate size 5\n",
            "====================\n",
            "\n"
          ]
        }
      ],
      "source": [
        "sizes = [1,2,3,4,\"none\"]\n",
        "thresholds = [0.04, 0.05, 0.06]\n",
        "timings = {}\n",
        "\n",
        "for threshold in thresholds:\n",
        "  print(f\"Threshold: {threshold}\")\n",
        "  durations = []\n",
        "  for size in sizes:\n",
        "    print(f\"\\nMax itemsize: {size}\")\n",
        "    start_time = time()\n",
        "    result = apriori(subset, max_itemset_size=size, perc_threshold=threshold)\n",
        "    end_time = time()\n",
        "    durations.append(end_time-start_time)\n",
        "  timings[threshold] = durations\n",
        "  print(\"====================\\n\")"
      ]
    },
    {
      "cell_type": "code",
      "execution_count": null,
      "metadata": {
        "colab": {
          "base_uri": "https://localhost:8080/"
        },
        "id": "VSBt7v_4lsoC",
        "outputId": "1bda286c-6f72-45d7-90b0-083b74011ba3"
      },
      "outputs": [
        {
          "data": {
            "text/plain": [
              "{0.04: [3.6934220790863037,\n",
              "  83.04573392868042,\n",
              "  106.3676609992981,\n",
              "  109.7443163394928,\n",
              "  114.8700385093689],\n",
              " 0.05: [5.501152992248535,\n",
              "  50.749831199645996,\n",
              "  63.175331830978394,\n",
              "  63.203065633773804,\n",
              "  62.31730914115906],\n",
              " 0.06: [5.436581134796143,\n",
              "  35.13612341880798,\n",
              "  42.50804138183594,\n",
              "  43.15307831764221,\n",
              "  44.16883730888367]}"
            ]
          },
          "execution_count": 18,
          "metadata": {},
          "output_type": "execute_result"
        }
      ],
      "source": [
        "timings"
      ]
    },
    {
      "cell_type": "code",
      "execution_count": null,
      "metadata": {
        "colab": {
          "base_uri": "https://localhost:8080/"
        },
        "id": "4sbMbMypRsNy",
        "outputId": "ba1c3dd7-b65d-4bd7-8c2d-94d5e518bd73"
      },
      "outputs": [
        {
          "data": {
            "text/plain": [
              "[1, 2, 3, 4, 'none']"
            ]
          },
          "execution_count": 19,
          "metadata": {},
          "output_type": "execute_result"
        }
      ],
      "source": [
        "sizes"
      ]
    },
    {
      "cell_type": "code",
      "execution_count": null,
      "metadata": {
        "colab": {
          "base_uri": "https://localhost:8080/",
          "height": 283
        },
        "id": "iOgaDT8Ynf4E",
        "outputId": "dfea6e94-59bd-4364-949f-a8f4cbae4ae9"
      },
      "outputs": [
        {
          "data": {
            "image/png": "[encoded data removed]",
            "text/plain": [
              "<Figure size 432x288 with 1 Axes>"
            ]
          },
          "metadata": {},
          "output_type": "display_data"
        }
      ],
      "source": [
        "vertical = sizes\n",
        "x = timings[0.04]\n",
        "y = timings[0.05]\n",
        "z = timings[0.06]\n",
        "\n",
        "plt.plot(vertical, x, label = \"t = 0.04\")\n",
        "plt.plot(vertical, y, label = \"t = 0.05\")\n",
        "plt.plot(vertical, z, label = \"t = 0.06\")\n",
        "\n",
        "plt.xlabel(\"Max Itemset Size\")\n",
        "plt.ylabel(\"Computation Time (s)\")\n",
        "\n",
        "plt.legend()\n",
        "plt.savefig(\"drive/MyDrive/amd_proj/timings.jpeg\")\n",
        "plt.show()"
      ]
    },
    {
      "cell_type": "markdown",
      "metadata": {
        "id": "anmIimJFBrGt"
      },
      "source": [
        "### Number of frequent itemsets as a function of max_itemset_size and threshold"
      ]
    },
    {
      "cell_type": "code",
      "execution_count": null,
      "metadata": {
        "colab": {
          "base_uri": "https://localhost:8080/"
        },
        "id": "Cj2viwgWB2I1",
        "outputId": "3e33fde1-b29a-4af6-fb1d-175d5a3321e7"
      },
      "outputs": [
        {
          "output_type": "stream",
          "name": "stderr",
          "text": [
            "\r  0%|          | 0/5 [00:00<?, ?it/s]"
          ]
        },
        {
          "output_type": "stream",
          "name": "stdout",
          "text": [
            "\n",
            "Max itemsize: 1\n"
          ]
        },
        {
          "output_type": "stream",
          "name": "stderr",
          "text": [
            "\r 20%|██        | 1/5 [00:15<01:02, 15.65s/it]"
          ]
        },
        {
          "output_type": "stream",
          "name": "stdout",
          "text": [
            "====================\n",
            "\n",
            "\n",
            "Max itemsize: 2\n"
          ]
        },
        {
          "output_type": "stream",
          "name": "stderr",
          "text": [
            "\r 40%|████      | 2/5 [06:41<11:40, 233.44s/it]"
          ]
        },
        {
          "output_type": "stream",
          "name": "stdout",
          "text": [
            "====================\n",
            "\n",
            "\n",
            "Max itemsize: 3\n"
          ]
        },
        {
          "output_type": "stream",
          "name": "stderr",
          "text": [
            "\r 60%|██████    | 3/5 [16:49<13:28, 404.49s/it]"
          ]
        },
        {
          "output_type": "stream",
          "name": "stdout",
          "text": [
            "====================\n",
            "\n",
            "\n",
            "Max itemsize: 4\n"
          ]
        },
        {
          "output_type": "stream",
          "name": "stderr",
          "text": [
            "\r 80%|████████  | 4/5 [27:23<08:15, 495.14s/it]"
          ]
        },
        {
          "output_type": "stream",
          "name": "stdout",
          "text": [
            "====================\n",
            "\n",
            "\n",
            "Max itemsize: 5\n"
          ]
        },
        {
          "output_type": "stream",
          "name": "stderr",
          "text": [
            "100%|██████████| 5/5 [38:07<00:00, 457.43s/it]"
          ]
        },
        {
          "output_type": "stream",
          "name": "stdout",
          "text": [
            "====================\n",
            "\n"
          ]
        },
        {
          "output_type": "stream",
          "name": "stderr",
          "text": [
            "\n"
          ]
        }
      ],
      "source": [
        "from tqdm import tqdm\n",
        "sizes = [1,2,3,4,5]\n",
        "result_length = {}\n",
        "\n",
        "for size in tqdm(sizes):\n",
        "  print(f\"\\nMax itemsize: {size}\")\n",
        "  result = len(apriori(subset, max_itemset_size=size, perc_threshold=0.02))\n",
        "  result_length[size] = result\n",
        "  print(\"====================\\n\")"
      ]
    },
    {
      "cell_type": "code",
      "source": [
        "result_length"
      ],
      "metadata": {
        "colab": {
          "base_uri": "https://localhost:8080/"
        },
        "id": "2Fif4Zfoy5kh",
        "outputId": "d0abe1f1-cd37-4614-df41-692bc4ce6fc7"
      },
      "execution_count": null,
      "outputs": [
        {
          "output_type": "execute_result",
          "data": {
            "text/plain": [
              "{1: 628, 2: 2812, 3: 3664, 4: 3834, 5: 3861}"
            ]
          },
          "metadata": {},
          "execution_count": 13
        }
      ]
    },
    {
      "cell_type": "code",
      "source": [
        "result_length = {1: 628, 2: 2812, 3: 3664, 4: 3834, 5: 3861}\n",
        "\n",
        "result = {}\n",
        "prev_value = 0\n",
        "\n",
        "for key, value in result_length.items():\n",
        "    result_length[key] = value - prev_value\n",
        "    prev_value = value\n"
      ],
      "metadata": {
        "id": "QUGWXm_i0ELu"
      },
      "execution_count": null,
      "outputs": []
    },
    {
      "cell_type": "code",
      "source": [
        "result_length"
      ],
      "metadata": {
        "colab": {
          "base_uri": "https://localhost:8080/"
        },
        "id": "IK_bgtKr0JNV",
        "outputId": "2e4f9700-6c67-40df-e690-6e8081806f01"
      },
      "execution_count": null,
      "outputs": [
        {
          "output_type": "execute_result",
          "data": {
            "text/plain": [
              "{1: 628, 2: 2184, 3: 852, 4: 170, 5: 27}"
            ]
          },
          "metadata": {},
          "execution_count": 21
        }
      ]
    },
    {
      "cell_type": "code",
      "execution_count": null,
      "metadata": {
        "colab": {
          "base_uri": "https://localhost:8080/",
          "height": 295
        },
        "id": "bCEC6pfMMobl",
        "outputId": "df5f5cbf-bed4-45b4-e9eb-e5b8c4df251e"
      },
      "outputs": [
        {
          "output_type": "display_data",
          "data": {
            "text/plain": [
              "<Figure size 432x288 with 1 Axes>"
            ],
            "image/png": "[encoded data removed]"
          },
          "metadata": {
            "needs_background": "light"
          }
        }
      ],
      "source": [
        "plt.bar(result_length.keys(), result_length.values(),color = '#7EB6FF',width = 0.8)\n",
        "plt.title(\"Number of itemsets for each size\")\n",
        "plt.xlabel(\"Max Itemset Size\")\n",
        "plt.ylabel(\"Num items\")\n",
        "plt.savefig(\"drive/MyDrive/amd_proj/size.jpeg\")\n",
        "plt.show()"
      ]
    },
    {
      "cell_type": "markdown",
      "metadata": {
        "id": "luNGcSJ8Flz6"
      },
      "source": [
        "### Market Basket Analysis: Confidence and Interest"
      ]
    },
    {
      "cell_type": "code",
      "execution_count": null,
      "metadata": {
        "id": "dEONf-ypFqkA"
      },
      "outputs": [],
      "source": [
        "# Create a dictonary from the results, containing the support for each itemset\n",
        "support_dict = [((t[0],), t[1]/len(subset)) if type(t[0])==str else (t[0], t[1]/len(subset)) for t in results ]\n",
        "support_dict = {x:y for x,y in support_dict}"
      ]
    },
    {
      "cell_type": "code",
      "source": [
        "# Create a dictionary for the confidence and one for the lift\n",
        "confidence = {}\n",
        "lift = {}\n",
        "\n",
        "# For each key \"UY\" of the dictionary, comput the confidence and the lift of the \n",
        "# rule U => Y\n",
        "for UY in support_dict:\n",
        "  if len(UY) > 1:\n",
        "    for Y in UY:\n",
        "      # Remove Y from U\n",
        "      U = list(U)\n",
        "      U = tuple(U.remove(Y))\n",
        "\n",
        "      # Compute the confidence as the support of the union U union Y divided by the\n",
        "      # support of U\n",
        "      confidence[U,Y] = support_dict[UY] / support_dict[U]\n",
        "\n",
        "      # Compute the lift as the support of U union Y divided by the support of Y\n",
        "      # and the support of U\n",
        "      lift[x,y] = (support_dict[UY])/(support_dict[(Y, )]*support_dict[U])"
      ],
      "metadata": {
        "id": "_0AMt7Ffe2xF"
      },
      "execution_count": null,
      "outputs": []
    },
    {
      "cell_type": "code",
      "source": [
        "# Retrieve the rule with maximum confidence\n",
        "max(confidence, key=confidence.get)"
      ],
      "metadata": {
        "colab": {
          "base_uri": "https://localhost:8080/"
        },
        "id": "g-X_jJfkf6Uj",
        "outputId": "af60962a-26d2-4f66-8c1b-33a11e703800"
      },
      "execution_count": null,
      "outputs": [
        {
          "output_type": "execute_result",
          "data": {
            "text/plain": [
              "(('gel', 'weight'), 'molecular')"
            ]
          },
          "metadata": {},
          "execution_count": 270
        }
      ]
    },
    {
      "cell_type": "code",
      "source": [
        "# Retrieve the rule with maximum lift\n",
        "max(lift, key=lift.get)"
      ],
      "metadata": {
        "colab": {
          "base_uri": "https://localhost:8080/"
        },
        "id": "geb0xEkIjds2",
        "outputId": "ba2d2746-b22c-4e11-f4c2-35c1b978e4ee"
      },
      "execution_count": null,
      "outputs": [
        {
          "output_type": "execute_result",
          "data": {
            "text/plain": [
              "(('electrophoresis',), 'gel')"
            ]
          },
          "metadata": {},
          "execution_count": 271
        }
      ]
    }
  ],
  "metadata": {
    "colab": {
      "collapsed_sections": [
        "DyIFVSO8kGFL",
        "anmIimJFBrGt",
        "luNGcSJ8Flz6"
      ],
      "provenance": [],
      "authorship_tag": "ABX9TyNwVHON4LF0enYwv62uIgEw",
      "include_colab_link": true
    },
    "kernelspec": {
      "display_name": "Python 3",
      "name": "python3"
    },
    "language_info": {
      "name": "python"
    }
  },
  "nbformat": 4,
  "nbformat_minor": 0
}